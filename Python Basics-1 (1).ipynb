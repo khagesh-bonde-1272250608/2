{
  "cells": [
    {
      "cell_type": "markdown",
      "metadata": {
        "id": "Ecc5GTJH8t3q"
      },
      "source": [
        "### Concept of Data Types\n",
        "\n",
        "Data types classify the kind of values a variable can hold. Python has several built-in data types.\n",
        "\n",
        "  * **Integers (`int`):** Whole numbers (e.g., 10, -5, 0).\n",
        "  * **Floating-point numbers (`float`):** Numbers with a decimal point (e.g., 3.14, -0.5, 2.0).\n",
        "  * **Strings (`str`):** Sequences of characters (e.g., \"hello\", 'Python').\n",
        "  * **Booleans (`bool`):** Represents truth values (`True` or `False`).\n",
        "  * **Lists (`list`):** Ordered, mutable collections of items (e.g., `[1, 2, 3]`).\n",
        "  * **Tuples (`tuple`):** Ordered, immutable collections of items (e.g., `(1, 2, 3)`).\n",
        "  * **Sets (`set`):** Unordered collections of unique items (e.g., `{1, 2, 3}`).\n",
        "  * **Dictionaries (`dict`):** Unordered collections of key-value pairs (e.g., `{'name': 'Alice', 'age': 30}`).\n",
        "\n",
        "<!-- end list -->"
      ]
    },
    {
      "cell_type": "code",
      "execution_count": null,
      "metadata": {
        "id": "CTKrJCv98t3q"
      },
      "outputs": [],
      "source": [
        "# Examples of data types\n",
        "integer_var = 10\n",
        "float_var = 3.14\n",
        "string_var = \"Hello, Python!\"\n",
        "boolean_var = True\n",
        "\n",
        "print(f\"integer_var: {integer_var} (Type: {type(integer_var)})\")\n",
        "print(f\"float_var: {float_var} (Type: {type(float_var)})\")\n",
        "print(f\"string_var: '{string_var}' (Type: {type(string_var)})\")\n",
        "print(f\"boolean_var: {boolean_var} (Type: {type(boolean_var)})\")"
      ]
    },
    {
      "cell_type": "markdown",
      "metadata": {
        "id": "eoDbcF728t3r"
      },
      "source": [
        "### Variables, Identifiers and Keywords\n",
        "\n",
        "  * **Variables:** Named locations in memory used to store data. In Python, you don't declare a variable's type; it's inferred.\n",
        "  * **Identifiers:** Names given to variables, functions, classes, etc.\n",
        "      * Must start with a letter (a-z, A-Z) or an underscore (`_`).\n",
        "      * Can contain letters, numbers, and underscores.\n",
        "      * Case-sensitive (`myVar` is different from `myvar`).\n",
        "      * Cannot be a Python keyword.\n",
        "  * **Keywords:** Reserved words that have special meaning in Python. They cannot be used as identifiers. Examples: `if`, `else`, `for`, `while`, `def`, `class`, `import`, `True`, `False`, `None`.\n",
        "\n",
        "<!-- end list -->"
      ]
    },
    {
      "cell_type": "code",
      "execution_count": null,
      "metadata": {
        "id": "Cy9OJ2oJ8t3r"
      },
      "outputs": [],
      "source": [
        "# Variable assignment\n",
        "my_variable = 100\n",
        "_another_var = \"Python\"\n",
        "\n",
        "# This would cause an error:\n",
        "# if = 5 # 'if' is a keyword\n",
        "\n",
        "import keyword\n",
        "print(\"List of Python Keywords:\")\n",
        "print(keyword.kwlist)"
      ]
    },
    {
      "cell_type": "markdown",
      "metadata": {
        "id": "bffb7gbI8t3r"
      },
      "source": [
        "### Literals\n",
        "\n",
        "Literals are raw data given in a variable or constant.\n",
        "\n",
        "  * **Numeric Literals:**\n",
        "      * Integer literals: `10`, `-5`, `0x1A` (hexadecimal), `0o10` (octal), `0b101` (binary)\n",
        "      * Float literals: `3.14`, `-0.5`, `1.2e-3`\n",
        "      * Complex literals: `3 + 4j`\n",
        "  * **String Literals:** `'hello'`, `\"world\"`, `'''multi-line string'''`\n",
        "  * **Boolean Literals:** `True`, `False`\n",
        "  * **Special Literal:** `None` (represents absence of value)\n",
        "\n",
        "<!-- end list -->"
      ]
    },
    {
      "cell_type": "code",
      "execution_count": null,
      "metadata": {
        "id": "izifCSxS8t3s"
      },
      "outputs": [],
      "source": [
        "# Numeric literals\n",
        "int_literal = 10\n",
        "float_literal = 3.14\n",
        "complex_literal = 1 + 2j\n",
        "\n",
        "# String literals\n",
        "string_literal1 = 'Single quotes'\n",
        "string_literal2 = \"Double quotes\"\n",
        "multi_line_string = \"\"\"This is a\n",
        "multi-line string.\"\"\"\n",
        "\n",
        "# Boolean literals\n",
        "bool_true = True\n",
        "bool_false = False\n",
        "\n",
        "# Special literal\n",
        "none_literal = None\n",
        "\n",
        "print(int_literal, float_literal, complex_literal)\n",
        "print(string_literal1, string_literal2)\n",
        "print(multi_line_string)\n",
        "print(bool_true, bool_false, none_literal)"
      ]
    },
    {
      "cell_type": "markdown",
      "metadata": {
        "id": "ZB37o3I18t3s"
      },
      "source": [
        "### Strings\n",
        "\n",
        "Strings are sequences of characters. They are immutable, meaning once created, their content cannot be changed.\n",
        "\n",
        "  * **Creation:** Use single, double, or triple quotes.\n",
        "  * **Accessing Characters:** Use indexing (starts at 0).\n",
        "  * **Slicing:** Extract a portion of a string.\n",
        "  * **Concatenation:** Join strings using `+`.\n",
        "  * **Repetition:** Repeat a string using `*`.\n",
        "  * **Built-in Methods:** `len()`, `lower()`, `upper()`, `strip()`, `split()`, `join()`, `find()`, `replace()`.\n",
        "\n",
        "<!-- end list -->"
      ]
    },
    {
      "cell_type": "code",
      "execution_count": null,
      "metadata": {
        "id": "RbhMNpNc8t3s"
      },
      "outputs": [],
      "source": [
        "my_string = \"Hello Python\"\n",
        "\n",
        "# Accessing characters\n",
        "print(f\"First character: {my_string[0]}\")\n",
        "print(f\"Last character: {my_string[-1]}\")\n",
        "\n",
        "# Slicing\n",
        "print(f\"Slice from index 6 to end: {my_string[6:]}\")\n",
        "print(f\"Slice from index 0 to 5: {my_string[:5]}\")\n",
        "print(f\"Slice from index 0 to end (every other char): {my_string[::2]}\")\n",
        "\n",
        "# Concatenation\n",
        "greeting = \"Good\" + \" \" + \"Morning\"\n",
        "print(f\"Concatenated string: {greeting}\")\n",
        "\n",
        "# Repetition\n",
        "repeated_string = \"Hi\" * 3\n",
        "print(f\"Repeated string: {repeated_string}\")\n",
        "\n",
        "# String methods\n",
        "print(f\"Uppercase: {my_string.upper()}\")\n",
        "print(f\"Lowercase: {my_string.lower()}\")\n",
        "print(f\"Replaced 'o' with 'x': {my_string.replace('o', 'x')}\")\n",
        "print(f\"Split by space: {my_string.split(' ')}\")"
      ]
    },
    {
      "cell_type": "markdown",
      "metadata": {
        "id": "PFkdbWd_8t3t"
      },
      "source": [
        "### Operators\n",
        "\n",
        "Operators are symbols that perform operations on values and variables.\n",
        "\n",
        "#### Arithmetic Operators\n",
        "\n",
        "Used for mathematical calculations.\n",
        "\n",
        "  * `+` (Addition)\n",
        "  * `-` (Subtraction)\n",
        "  * `*` (Multiplication)\n",
        "  * `/` (Division - always returns float)\n",
        "  * `%` (Modulo - remainder of division)\n",
        "  * `**` (Exponentiation)\n",
        "  * `//` (Floor Division - returns integer quotient)\n",
        "\n",
        "<!-- end list -->"
      ]
    },
    {
      "cell_type": "code",
      "execution_count": null,
      "metadata": {
        "id": "qRfqiavX8t3t"
      },
      "outputs": [],
      "source": [
        "a = 10\n",
        "b = 3\n",
        "\n",
        "print(f\"a + b = {a + b}\")\n",
        "print(f\"a - b = {a - b}\")\n",
        "print(f\"a * b = {a * b}\")\n",
        "print(f\"a / b = {a / b}\")\n",
        "print(f\"a % b = {a % b}\")\n",
        "print(f\"a ** b = {a ** b}\")\n",
        "print(f\"a // b = {a // b}\")"
      ]
    },
    {
      "cell_type": "markdown",
      "metadata": {
        "id": "BUiZNayl8t3t"
      },
      "source": [
        "#### Relational (Comparison) Operators\n",
        "\n",
        "Compare two values and return `True` or `False`.\n",
        "\n",
        "  * `==` (Equal to)\n",
        "  * `!=` (Not equal to)\n",
        "  * `>` (Greater than)\n",
        "  * `<` (Less than)\n",
        "  * `>=` (Greater than or equal to)\n",
        "  * `<=` (Less than or equal to)\n",
        "\n",
        "<!-- end list -->"
      ]
    },
    {
      "cell_type": "code",
      "execution_count": null,
      "metadata": {
        "id": "uF-pSMhS8t3t"
      },
      "outputs": [],
      "source": [
        "x = 5\n",
        "y = 10\n",
        "\n",
        "print(f\"x == y: {x == y}\")\n",
        "print(f\"x != y: {x != y}\")\n",
        "print(f\"x > y: {x > y}\")\n",
        "print(f\"x < y: {x < y}\")\n",
        "print(f\"x >= 5: {x >= 5}\")\n",
        "print(f\"y <= 10: {y <= 10}\")"
      ]
    },
    {
      "cell_type": "markdown",
      "metadata": {
        "id": "z9cJqFY58t3t"
      },
      "source": [
        "#### Logical Operators\n",
        "\n",
        "Combine conditional statements.\n",
        "\n",
        "  * `and`: Returns `True` if both statements are `True`.\n",
        "  * `or`: Returns `True` if at least one statement is `True`.\n",
        "  * `not`: Reverses the result, returns `False` if the result is `True`.\n",
        "\n",
        "<!-- end list -->"
      ]
    },
    {
      "cell_type": "code",
      "execution_count": null,
      "metadata": {
        "id": "G9vSE4TR8t3t"
      },
      "outputs": [],
      "source": [
        "p = True\n",
        "q = False\n",
        "\n",
        "print(f\"p and q: {p and q}\")\n",
        "print(f\"p or q: {p or q}\")\n",
        "print(f\"not p: {not p}\")\n",
        "\n",
        "age = 25\n",
        "has_license = True\n",
        "print(f\"Can drive: {(age >= 18) and has_license}\")"
      ]
    },
    {
      "cell_type": "markdown",
      "metadata": {
        "id": "33BNZeqv8t3u"
      },
      "source": [
        "#### Boolean Operators\n",
        "\n",
        "Same as logical operators (`and`, `or`, `not`), specifically used with boolean values.\n",
        "\n",
        "#### 1.6.5 Assignment Operators\n",
        "\n",
        "Assign values to variables.\n",
        "\n",
        "  * `=` (Assign)\n",
        "  * `+=` (Add and assign)\n",
        "  * `-=` (Subtract and assign)\n",
        "  * `*=` (Multiply and assign)\n",
        "  * `/=` (Divide and assign)\n",
        "  * `%=` (Modulo and assign)\n",
        "  * `**=` (Exponentiate and assign)\n",
        "  * `//=` (Floor divide and assign)\n",
        "\n",
        "<!-- end list -->"
      ]
    },
    {
      "cell_type": "code",
      "execution_count": null,
      "metadata": {
        "id": "j_J0VZ-U8t3u"
      },
      "outputs": [],
      "source": [
        "num = 10\n",
        "\n",
        "num += 5  # num = num + 5\n",
        "print(f\"num after += 5: {num}\")\n",
        "\n",
        "num -= 2  # num = num - 2\n",
        "print(f\"num after -= 2: {num}\")\n",
        "\n",
        "num *= 3  # num = num * 3\n",
        "print(f\"num after *= 3: {num}\")\n",
        "\n",
        "num /= 6  # num = num / 6\n",
        "print(f\"num after /= 6: {num}\")"
      ]
    },
    {
      "cell_type": "markdown",
      "metadata": {
        "id": "kLDtnXKV8t3u"
      },
      "source": [
        "####  Membership Operators (`in` and `not in`)\n",
        "\n",
        "Test if a sequence (string, list, tuple, set, dictionary) contains a specific element.\n",
        "\n",
        "  * `in`: Returns `True` if the specified value is found in the sequence.\n",
        "  * `not in`: Returns `True` if the specified value is not found in the sequence.\n",
        "\n",
        "<!-- end list -->"
      ]
    },
    {
      "cell_type": "code",
      "execution_count": null,
      "metadata": {
        "id": "3zo1Km-i8t3u"
      },
      "outputs": [],
      "source": [
        "my_list = [1, 2, 3, 4, 5]\n",
        "my_string = \"Python\"\n",
        "\n",
        "print(f\"3 in my_list: {3 in my_list}\")\n",
        "print(f\"6 in my_list: {6 in my_list}\")\n",
        "print(f\"'P' in my_string: {'P' in my_string}\")\n",
        "print(f\"'z' not in my_string: {'z' not in my_string}\")"
      ]
    },
    {
      "cell_type": "markdown",
      "metadata": {
        "id": "8dBb913U8t3u"
      },
      "source": [
        "####  Identity Operators (`is` and `is not`)\n",
        "\n",
        "Compare the memory locations of two objects.\n",
        "\n",
        "  * `is`: Returns `True` if both variables point to the same object.\n",
        "  * `is not`: Returns `True` if both variables do not point to the same object.\n",
        "\n",
        "<!-- end list -->"
      ]
    },
    {
      "cell_type": "code",
      "execution_count": null,
      "metadata": {
        "id": "r9h6Vpns8t3u"
      },
      "outputs": [],
      "source": [
        "list1 = [1, 2, 3]\n",
        "list2 = [1, 2, 3]\n",
        "list3 = list1 # list3 now references the same object as list1\n",
        "\n",
        "print(f\"list1 is list2: {list1 is list2}\") # False (different objects, even if content is same)\n",
        "print(f\"list1 is list3: {list1 is list3}\") # True (same object)\n",
        "\n",
        "a = None\n",
        "b = None\n",
        "print(f\"a is b: {a is b}\") # True (None is a singleton)"
      ]
    },
    {
      "cell_type": "markdown",
      "metadata": {
        "id": "HxQcHWzM8t3u"
      },
      "source": [
        "#### Bit-wise Operators\n",
        "\n",
        "Operate on individual bits of integers. (Less common for beginners, but good to know.)\n",
        "\n",
        "  * `&` (Bitwise AND)\n",
        "  * `|` (Bitwise OR)\n",
        "  * `^` (Bitwise XOR)\n",
        "  * `~` (Bitwise NOT)\n",
        "  * `<<` (Left shift)\n",
        "  * `>>` (Right shift)\n",
        "\n",
        "<!-- end list -->"
      ]
    },
    {
      "cell_type": "code",
      "execution_count": null,
      "metadata": {
        "id": "xpJUkB0R8t3u"
      },
      "outputs": [],
      "source": [
        "x = 10  # Binary: 1010\n",
        "y = 4   # Binary: 0100\n",
        "\n",
        "print(f\"x & y (AND): {x & y}\") # 0000 -> 0\n",
        "print(f\"x | y (OR): {x | y}\")  # 1110 -> 14\n",
        "print(f\"x ^ y (XOR): {x ^ y}\") # 1110 -> 14\n",
        "print(f\"~x (NOT): {~x}\")      # -11 (Two's complement)\n",
        "print(f\"x << 2 (Left shift): {x << 2}\") # 101000 -> 40\n",
        "print(f\"x >> 1 (Right shift): {x >> 1}\") # 0101 -> 5"
      ]
    },
    {
      "cell_type": "markdown",
      "metadata": {
        "id": "LLNao_vv8t3u"
      },
      "source": [
        "#### Increment or Decrement Operator (Conceptual)\n",
        "\n",
        "Python does **not** have dedicated `++` or `--` increment/decrement operators like C++ or Java. You achieve this using assignment operators."
      ]
    },
    {
      "cell_type": "code",
      "execution_count": null,
      "metadata": {
        "id": "CaNnKlqv8t3u"
      },
      "outputs": [],
      "source": [
        "count = 5\n",
        "count += 1 # Increment by 1\n",
        "print(f\"Incremented count: {count}\")\n",
        "\n",
        "count -= 1 # Decrement by 1\n",
        "print(f\"Decremented count: {count}\")"
      ]
    },
    {
      "cell_type": "markdown",
      "metadata": {
        "id": "dHglYOAV8t3u"
      },
      "source": [
        "### Comments in the Program\n",
        "\n",
        "Comments are explanatory notes in your code that are ignored by the Python interpreter. They improve code readability.\n",
        "\n",
        "  * **Single-line comments:** Start with `#`.\n",
        "  * **Multi-line comments (Docstrings):** Enclosed in triple quotes (`'''` or `\"\"\"`). Often used for documentation.\n",
        "\n",
        "<!-- end list -->"
      ]
    },
    {
      "cell_type": "code",
      "execution_count": null,
      "metadata": {
        "id": "uhXFmRco8t3u"
      },
      "outputs": [],
      "source": [
        "# This is a single-line comment.\n",
        "print(\"Hello, comments!\") # You can also add comments at the end of a line.\n",
        "\n",
        "'''\n",
        "This is a multi-line comment.\n",
        "It can span multiple lines.\n",
        "'''\n",
        "def my_function():\n",
        "    \"\"\"\n",
        "    This is a docstring for my_function.\n",
        "    It explains what the function does.\n",
        "    \"\"\"\n",
        "    pass"
      ]
    },
    {
      "cell_type": "markdown",
      "metadata": {
        "id": "OhebHZj48t3v"
      },
      "source": [
        "\n",
        "### Input and Output Statements\n",
        "\n",
        "  * **`print()`:** Used to display output to the console.\n",
        "  * **`input()`:** Used to get input from the user. The input is always read as a string.\n",
        "\n",
        "<!-- end list -->"
      ]
    },
    {
      "cell_type": "code",
      "execution_count": null,
      "metadata": {
        "id": "CC_zCpzG8t3v"
      },
      "outputs": [],
      "source": [
        "# Output\n",
        "print(\"This is an output statement.\")\n",
        "print(\"Hello\", \"World\", sep=\"-\", end=\"!\\n\")\n",
        "\n",
        "# Input\n",
        "name = input(\"Enter your name: \")\n",
        "age_str = input(\"Enter your age: \")\n",
        "age = int(age_str) # Convert age from string to integer\n",
        "\n",
        "print(f\"Hello, {name}! You are {age} years old.\")"
      ]
    },
    {
      "cell_type": "markdown",
      "metadata": {
        "id": "lmjk_C_z8t3v"
      },
      "source": [
        "### Control Statements / Conditional Statement – Branching (if-else, if-elif-else)\n",
        "\n",
        "Control statements determine the flow of execution based on conditions.\n",
        "\n",
        "  * **`if` statement:** Executes a block of code if a condition is `True`.\n",
        "  * **`if-else` statement:** Executes one block if the condition is `True`, another if it's `False`.\n",
        "  * **`if-elif-else` statement:** Allows checking multiple conditions sequentially.\n",
        "\n",
        "####  Indentation in Python\n",
        "\n",
        "Python uses indentation (whitespace at the beginning of a line) to define code blocks. This is crucial and replaces curly braces `{}` found in other languages. **Typically, 4 spaces are used for indentation.**"
      ]
    },
    {
      "cell_type": "code",
      "execution_count": null,
      "metadata": {
        "id": "6-PgZLtp8t3v"
      },
      "outputs": [],
      "source": [
        "# if statement\n",
        "score = 75\n",
        "if score >= 70:\n",
        "    print(\"Pass!\") # This line is indented\n",
        "\n",
        "# if-else statement\n",
        "temperature = 28\n",
        "if temperature > 30:\n",
        "    print(\"It's hot outside.\")\n",
        "else:\n",
        "    print(\"It's not too hot.\")\n",
        "\n",
        "# if-elif-else statement\n",
        "grade = 85\n",
        "if grade >= 90:\n",
        "    print(\"Grade: A\")\n",
        "elif grade >= 80:\n",
        "    print(\"Grade: B\")\n",
        "elif grade >= 70:\n",
        "    print(\"Grade: C\")\n",
        "else:\n",
        "    print(\"Grade: F\")"
      ]
    },
    {
      "cell_type": "markdown",
      "metadata": {
        "id": "R7wRaNlD8t3v"
      },
      "source": [
        "###  Iteration (using for, while)\n",
        "\n",
        "Loops allow you to repeatedly execute a block of code.\n",
        "\n",
        "####  `for` Loop\n",
        "\n",
        "Iterates over a sequence (list, tuple, string, range, etc.)."
      ]
    },
    {
      "cell_type": "code",
      "execution_count": null,
      "metadata": {
        "id": "dBt1yNGB8t3v"
      },
      "outputs": [],
      "source": [
        "# Iterating over a list\n",
        "fruits = [\"apple\", \"banana\", \"cherry\"]\n",
        "for fruit in fruits:\n",
        "    print(fruit)\n",
        "\n",
        "# Iterating using range()\n",
        "# range(stop) -> 0 to stop-1\n",
        "# range(start, stop) -> start to stop-1\n",
        "# range(start, stop, step)\n",
        "for i in range(5): # 0, 1, 2, 3, 4\n",
        "    print(f\"Number: {i}\")\n",
        "\n",
        "for char in \"Python\":\n",
        "    print(char)"
      ]
    },
    {
      "cell_type": "markdown",
      "metadata": {
        "id": "yxsQQrtc8t3v"
      },
      "source": [
        "####  `while` Loop\n",
        "\n",
        "Executes a block of code as long as a condition is `True`."
      ]
    },
    {
      "cell_type": "code",
      "execution_count": null,
      "metadata": {
        "id": "k9u1T8TV8t3v"
      },
      "outputs": [],
      "source": [
        "count = 0\n",
        "while count < 5:\n",
        "    print(f\"Count is: {count}\")\n",
        "    count += 1 # Important: update the condition to avoid infinite loop"
      ]
    },
    {
      "cell_type": "markdown",
      "metadata": {
        "id": "dSBx7NAi8t3v"
      },
      "source": [
        "\n",
        "###  `exit()` Function\n",
        "\n",
        "The `exit()` function (from the `sys` module) is used to terminate the execution of a Python script. `quit()` is an alias for `exit()` but generally used only in the interactive interpreter."
      ]
    },
    {
      "cell_type": "code",
      "execution_count": null,
      "metadata": {
        "id": "cPXx5toa8t3v"
      },
      "outputs": [],
      "source": [
        "import sys\n",
        "\n",
        "# Example: Exiting based on a condition\n",
        "user_input = input(\"Type 'quit' to exit: \")\n",
        "if user_input.lower() == 'quit':\n",
        "    print(\"Exiting program.\")\n",
        "    sys.exit()\n",
        "print(\"Program continues normally.\")"
      ]
    },
    {
      "cell_type": "markdown",
      "metadata": {
        "id": "cZHKMqLe8t3w"
      },
      "source": [
        "### Difference between `break`, `continue`, and `pass`\n",
        "\n",
        "These keywords are used to alter the flow of loops.\n",
        "\n",
        "  * **`break`:** Terminates the current loop entirely and execution resumes at the first statement after the loop.\n",
        "  * **`continue`:** Skips the rest of the current iteration of the loop and moves to the next iteration.\n",
        "  * **`pass`:** A null operation; nothing happens when it's executed. It's used as a placeholder where a statement is syntactically required but you don't want any code to execute.\n",
        "\n",
        "<!-- end list -->"
      ]
    },
    {
      "cell_type": "code",
      "execution_count": null,
      "metadata": {
        "id": "xYj0cASF8t31"
      },
      "outputs": [],
      "source": [
        "# break example\n",
        "print(\"Break example:\")\n",
        "for i in range(10):\n",
        "    if i == 5:\n",
        "        break\n",
        "    print(i)\n",
        "\n",
        "# continue example\n",
        "print(\"\\nContinue example:\")\n",
        "for i in range(10):\n",
        "    if i % 2 == 0: # Skip even numbers\n",
        "        continue\n",
        "    print(i)\n",
        "\n",
        "# pass example\n",
        "print(\"\\nPass example:\")\n",
        "def placeholder_function():\n",
        "    pass # Will implement this function later\n",
        "\n",
        "if True:\n",
        "    pass # No operation, just a placeholder"
      ]
    },
    {
      "cell_type": "markdown",
      "metadata": {
        "id": "hzrzSbzF8t31"
      },
      "source": [
        "##  Functions\n",
        "\n",
        "Functions are blocks of organized, reusable code that perform a single, related action.\n",
        "\n",
        "###  Built-in Functions (`math`, `statistics`)\n",
        "\n",
        "Python provides many built-in functions and modules with useful functions.\n",
        "\n",
        "  * **`math` module:** Provides mathematical functions.\n",
        "  * **`statistics` module:** Provides functions for calculating mathematical statistics.\n",
        "\n",
        "<!-- end list -->"
      ]
    },
    {
      "cell_type": "code",
      "execution_count": null,
      "metadata": {
        "id": "aYclV2Oy8t31"
      },
      "outputs": [],
      "source": [
        "import math\n",
        "import statistics\n",
        "\n",
        "# math module\n",
        "print(f\"Square root of 16: {math.sqrt(16)}\")\n",
        "print(f\"Pi value: {math.pi}\")\n",
        "print(f\"Ceiling of 4.3: {math.ceil(4.3)}\")\n",
        "print(f\"Floor of 4.7: {math.floor(4.7)}\")\n",
        "\n",
        "# statistics module\n",
        "data = [1, 2, 3, 4, 5, 5, 6, 7]\n",
        "print(f\"Mean of data: {statistics.mean(data)}\")\n",
        "print(f\"Median of data: {statistics.median(data)}\")\n",
        "print(f\"Mode of data: {statistics.mode(data)}\")"
      ]
    },
    {
      "cell_type": "markdown",
      "metadata": {
        "id": "BWACa2hW8t31"
      },
      "source": [
        "### User Defined Functions\n",
        "\n",
        "####  Defining Functions\n",
        "\n",
        "Functions are defined using the `def` keyword."
      ]
    },
    {
      "cell_type": "code",
      "execution_count": null,
      "metadata": {
        "id": "7FEsH-I88t31"
      },
      "outputs": [],
      "source": [
        "def greet():\n",
        "    \"\"\"This function prints a simple greeting.\"\"\"\n",
        "    print(\"Hello from a function!\")\n",
        "\n",
        "# Calling the function\n",
        "greet()\n",
        "\n",
        "def add_numbers(a, b):\n",
        "    \"\"\"This function adds two numbers and prints the sum.\"\"\"\n",
        "    sum_val = a + b\n",
        "    print(f\"The sum is: {sum_val}\")\n",
        "\n",
        "add_numbers(10, 20)"
      ]
    },
    {
      "cell_type": "markdown",
      "metadata": {
        "id": "75YqIB7u8t31"
      },
      "source": [
        "#### Arguments: Positional, Default, Keyword, Variable Length Arguments\n",
        "\n",
        "  * **Positional Arguments:** Arguments are matched based on their position in the function call.\n",
        "  * **Default Arguments:** Parameters with a default value. If a value isn't provided, the default is used.\n",
        "  * **Keyword Arguments:** Arguments are matched based on their name, allowing for out-of-order passing.\n",
        "  * **Variable Length Arguments (`*args`, `**kwargs`):**\n",
        "      * `*args`: Allows a function to accept an arbitrary number of positional arguments (as a tuple).\n",
        "      * `**kwargs`: Allows a function to accept an arbitrary number of keyword arguments (as a dictionary).\n",
        "\n",
        "<!-- end list -->"
      ]
    },
    {
      "cell_type": "code",
      "execution_count": null,
      "metadata": {
        "id": "d1IVzugW8t31"
      },
      "outputs": [],
      "source": [
        "# Positional Arguments\n",
        "def describe_person(name, age):\n",
        "    print(f\"{name} is {age} years old.\")\n",
        "\n",
        "describe_person(\"Alice\", 30)\n",
        "\n",
        "# Default Arguments\n",
        "def describe_car(make, model, year=2020):\n",
        "    print(f\"Car: {make} {model} ({year})\")\n",
        "\n",
        "describe_car(\"Toyota\", \"Camry\")\n",
        "describe_car(\"Honda\", \"Civic\", 2023)\n",
        "\n",
        "# Keyword Arguments\n",
        "describe_person(age=25, name=\"Bob\")\n",
        "\n",
        "# Variable Length Positional Arguments (*args)\n",
        "def sum_all(*numbers):\n",
        "    total = 0\n",
        "    for num in numbers:\n",
        "        total += num\n",
        "    return total\n",
        "\n",
        "print(f\"Sum of 1, 2, 3: {sum_all(1, 2, 3)}\")\n",
        "print(f\"Sum of 10, 20, 30, 40: {sum_all(10, 20, 30, 40)}\")\n",
        "\n",
        "# Variable Length Keyword Arguments (**kwargs)\n",
        "def print_details(**details):\n",
        "    for key, value in details.items():\n",
        "        print(f\"{key}: {value}\")\n",
        "\n",
        "print_details(name=\"Charlie\", city=\"New York\", occupation=\"Engineer\")"
      ]
    },
    {
      "cell_type": "markdown",
      "metadata": {
        "id": "GpMlR6vg8t31"
      },
      "source": [
        "#### Scope of Variables\n",
        "\n",
        "  * **Local Scope:** Variables defined inside a function are local to that function and cannot be accessed from outside.\n",
        "  * **Global Scope:** Variables defined outside any function are global and can be accessed from anywhere.\n",
        "  * **`global` keyword:** Used inside a function to modify a global variable.\n",
        "\n",
        "<!-- end list -->"
      ]
    },
    {
      "cell_type": "code",
      "execution_count": null,
      "metadata": {
        "id": "nDJeINkA8t31"
      },
      "outputs": [],
      "source": [
        "global_var = \"I am global\"\n",
        "\n",
        "def my_scope_function():\n",
        "    local_var = \"I am local\"\n",
        "    print(f\"Inside function: {global_var}\")\n",
        "    print(f\"Inside function: {local_var}\")\n",
        "\n",
        "my_scope_function()\n",
        "print(f\"Outside function: {global_var}\")\n",
        "# print(local_var) # This would cause an error (NameError)\n",
        "\n",
        "def modify_global():\n",
        "    global global_var\n",
        "    global_var = \"I am modified global\"\n",
        "\n",
        "modify_global()\n",
        "print(f\"After modification: {global_var}\")"
      ]
    },
    {
      "cell_type": "markdown",
      "metadata": {
        "id": "RdSywol-8t31"
      },
      "source": [
        "####  Return Statement\n",
        "\n",
        "The `return` statement is used to send a value back from a function to the caller. If no `return` statement is used, the function implicitly returns `None`."
      ]
    },
    {
      "cell_type": "code",
      "execution_count": null,
      "metadata": {
        "id": "nybUXMzB8t32"
      },
      "outputs": [],
      "source": [
        "def multiply(x, y):\n",
        "    result = x * y\n",
        "    return result\n",
        "\n",
        "product = multiply(7, 8)\n",
        "print(f\"Product: {product}\")\n",
        "\n",
        "def no_return_function():\n",
        "    print(\"This function doesn't explicitly return anything.\")\n",
        "\n",
        "result_none = no_return_function()\n",
        "print(f\"Result of no_return_function: {result_none}\") # Will print None"
      ]
    },
    {
      "cell_type": "markdown",
      "metadata": {
        "id": "LIA8Pbji8t32"
      },
      "source": [
        "#### Recursion\n",
        "\n",
        "A function that calls itself is called a recursive function. This is often used for problems that can be broken down into smaller, self-similar subproblems (e.g., factorial, Fibonacci sequence)."
      ]
    },
    {
      "cell_type": "code",
      "execution_count": null,
      "metadata": {
        "id": "g-HqsZbt8t32"
      },
      "outputs": [],
      "source": [
        "def factorial(n):\n",
        "    \"\"\"Calculates the factorial of a non-negative integer recursively.\"\"\"\n",
        "    if n == 0 or n == 1:\n",
        "        return 1\n",
        "    else:\n",
        "        return n * factorial(n - 1)\n",
        "\n",
        "print(f\"Factorial of 5: {factorial(5)}\") # 5 * 4 * 3 * 2 * 1 = 120"
      ]
    },
    {
      "cell_type": "markdown",
      "metadata": {
        "id": "WCYFgOC_8t32"
      },
      "source": [
        "#### Importing (using `import`)\n",
        "\n",
        "Modules are Python files containing functions, classes, and variables. The `import` statement brings these modules into your current script."
      ]
    },
    {
      "cell_type": "code",
      "execution_count": null,
      "metadata": {
        "id": "KpEva-KP8t32"
      },
      "outputs": [],
      "source": [
        "# Import entire module\n",
        "import math\n",
        "print(math.sqrt(25))\n",
        "\n",
        "# Import specific functions/objects\n",
        "from math import pi, sin\n",
        "print(f\"Value of pi: {pi}\")\n",
        "print(f\"Sine of 90 degrees (radians): {sin(math.radians(90))}\")\n",
        "\n",
        "# Import with alias\n",
        "import random as rnd\n",
        "print(f\"Random number: {rnd.randint(1, 10)}\")"
      ]
    },
    {
      "cell_type": "markdown",
      "metadata": {
        "id": "lTB0t4MW8t32"
      },
      "source": [
        "## Data Structures\n",
        "\n",
        "###  List\n",
        "\n",
        "Lists are ordered, mutable (changeable) collections of items.\n",
        "\n",
        "#### Adding Items to a List\n",
        "\n",
        "  * `append()`: Adds an item to the end of the list.\n",
        "  * `insert()`: Inserts an item at a specified index.\n",
        "  * `extend()`: Appends elements from another iterable (list, tuple, etc.).\n",
        "\n",
        "<!-- end list -->"
      ]
    },
    {
      "cell_type": "code",
      "execution_count": null,
      "metadata": {
        "id": "xCIpxyJI8t32"
      },
      "outputs": [],
      "source": [
        "my_list = [10, 20, 30]\n",
        "print(f\"Original list: {my_list}\")\n",
        "\n",
        "my_list.append(40)\n",
        "print(f\"After append(40): {my_list}\")\n",
        "\n",
        "my_list.insert(1, 15)\n",
        "print(f\"After insert(1, 15): {my_list}\")\n",
        "\n",
        "another_list = [50, 60]\n",
        "my_list.extend(another_list)\n",
        "print(f\"After extend([50, 60]): {my_list}\")"
      ]
    },
    {
      "cell_type": "markdown",
      "metadata": {
        "id": "v4cn2trk8t32"
      },
      "source": [
        "####  Finding and Updating an Item\n",
        "\n",
        "  * **Finding:** Use indexing. `index()` method returns the index of the first occurrence.\n",
        "  * **Updating:** Assign a new value to an item at a specific index.\n",
        "\n",
        "<!-- end list -->"
      ]
    },
    {
      "cell_type": "code",
      "execution_count": null,
      "metadata": {
        "id": "x0iPWRea8t32"
      },
      "outputs": [],
      "source": [
        "my_list = [10, 15, 20, 30, 40, 50, 60]\n",
        "\n",
        "# Finding\n",
        "print(f\"Element at index 2: {my_list[2]}\")\n",
        "try:\n",
        "    print(f\"Index of 30: {my_list.index(30)}\")\n",
        "except ValueError:\n",
        "    print(\"30 not found\")\n",
        "\n",
        "# Updating\n",
        "my_list[2] = 25\n",
        "print(f\"After updating index 2: {my_list}\")"
      ]
    },
    {
      "cell_type": "markdown",
      "metadata": {
        "id": "3Jy5yaOi8t32"
      },
      "source": [
        "#### Nested Lists\n",
        "\n",
        "Lists can contain other lists."
      ]
    },
    {
      "cell_type": "code",
      "execution_count": null,
      "metadata": {
        "id": "jaemZ2K58t32"
      },
      "outputs": [],
      "source": [
        "nested_list = [[1, 2, 3], [4, 5], [6, 7, 8, 9]]\n",
        "print(f\"Nested list: {nested_list}\")\n",
        "print(f\"First inner list: {nested_list[0]}\")\n",
        "print(f\"Element 5: {nested_list[1][1]}\")"
      ]
    },
    {
      "cell_type": "markdown",
      "metadata": {
        "id": "EQD2kZ3h8t32"
      },
      "source": [
        "####  Cloning Lists\n",
        "\n",
        "Creating a copy of a list without referencing the original.\n",
        "\n",
        "  * Slicing: `new_list = old_list[:]`\n",
        "  * `list()` constructor: `new_list = list(old_list)`\n",
        "  * `copy()` method: `new_list = old_list.copy()`\n",
        "\n",
        "<!-- end list -->"
      ]
    },
    {
      "cell_type": "code",
      "execution_count": null,
      "metadata": {
        "id": "SlTOz8VS8t32"
      },
      "outputs": [],
      "source": [
        "original_list = [1, 2, 3]\n",
        "\n",
        "# Cloning using slicing\n",
        "cloned_list1 = original_list[:]\n",
        "cloned_list1.append(4)\n",
        "print(f\"Original: {original_list}, Cloned 1: {cloned_list1}\")\n",
        "\n",
        "# Cloning using list()\n",
        "cloned_list2 = list(original_list)\n",
        "cloned_list2.append(5)\n",
        "print(f\"Original: {original_list}, Cloned 2: {cloned_list2}\")\n",
        "\n",
        "# Cloning using copy() method\n",
        "cloned_list3 = original_list.copy()\n",
        "cloned_list3.append(6)\n",
        "print(f\"Original: {original_list}, Cloned 3: {cloned_list3}\")"
      ]
    },
    {
      "cell_type": "markdown",
      "metadata": {
        "id": "K9r-B_mF8t32"
      },
      "source": [
        "#### Looping Through a List"
      ]
    },
    {
      "cell_type": "code",
      "execution_count": null,
      "metadata": {
        "id": "7LtjSQfK8t32"
      },
      "outputs": [],
      "source": [
        "my_list = [\"apple\", \"banana\", \"cherry\"]\n",
        "\n",
        "# Using a for loop (iterating by value)\n",
        "print(\"Looping by value:\")\n",
        "for item in my_list:\n",
        "    print(item)\n",
        "\n",
        "# Using a for loop with enumerate (iterating by index and value)\n",
        "print(\"\\nLooping by index and value:\")\n",
        "for index, item in enumerate(my_list):\n",
        "    print(f\"Index {index}: {item}\")\n",
        "\n",
        "# Using a while loop\n",
        "print(\"\\nLooping with while:\")\n",
        "i = 0\n",
        "while i < len(my_list):\n",
        "    print(my_list[i])\n",
        "    i += 1"
      ]
    },
    {
      "cell_type": "markdown",
      "metadata": {
        "id": "YTkEOg3q8t33"
      },
      "source": [
        "####  Sorting a List\n",
        "\n",
        "  * `sort()` method: Sorts the list in-place (modifies the original list).\n",
        "  * `sorted()` function: Returns a new sorted list, leaving the original unchanged.\n",
        "\n",
        "<!-- end list -->"
      ]
    },
    {
      "cell_type": "code",
      "execution_count": null,
      "metadata": {
        "id": "g97R0sWA8t33"
      },
      "outputs": [],
      "source": [
        "numbers = [3, 1, 4, 1, 5, 9, 2]\n",
        "print(f\"Original numbers: {numbers}\")\n",
        "\n",
        "# Using sort()\n",
        "numbers.sort()\n",
        "print(f\"Sorted in-place: {numbers}\")\n",
        "\n",
        "numbers_desc = [3, 1, 4, 1, 5, 9, 2]\n",
        "numbers_desc.sort(reverse=True)\n",
        "print(f\"Sorted in-place (desc): {numbers_desc}\")\n",
        "\n",
        "# Using sorted()\n",
        "unsorted_list = [8, 2, 5, 1, 9]\n",
        "sorted_list = sorted(unsorted_list)\n",
        "print(f\"Original (unsorted): {unsorted_list}, New sorted: {sorted_list}\")"
      ]
    },
    {
      "cell_type": "markdown",
      "metadata": {
        "id": "K6qn2W5V8t33"
      },
      "source": [
        "####  List Concatenation\n",
        "\n",
        "Joining lists using the `+` operator."
      ]
    },
    {
      "cell_type": "code",
      "execution_count": null,
      "metadata": {
        "id": "nHpVvUgf8t33"
      },
      "outputs": [],
      "source": [
        "list1 = [1, 2, 3]\n",
        "list2 = [4, 5, 6]\n",
        "concatenated_list = list1 + list2\n",
        "print(f\"Concatenated list: {concatenated_list}\")"
      ]
    },
    {
      "cell_type": "markdown",
      "metadata": {
        "id": "h_H5pNFy8t33"
      },
      "source": [
        "####  List Slices\n",
        "\n",
        "Extracting sub-portions of a list.\n",
        "\n",
        "`list[start:end:step]`"
      ]
    },
    {
      "cell_type": "code",
      "execution_count": null,
      "metadata": {
        "id": "dGTodZqM8t33"
      },
      "outputs": [],
      "source": [
        "my_list = [0, 1, 2, 3, 4, 5, 6, 7, 8, 9]\n",
        "\n",
        "print(f\"Slice from index 2 to 5: {my_list[2:6]}\") # [2, 3, 4, 5]\n",
        "print(f\"Slice from beginning to index 4: {my_list[:5]}\") # [0, 1, 2, 3, 4]\n",
        "print(f\"Slice from index 7 to end: {my_list[7:]}\") # [7, 8, 9]\n",
        "print(f\"Every second element: {my_list[::2]}\") # [0, 2, 4, 6, 8]\n",
        "print(f\"Reversed list: {my_list[::-1]}\") # [9, 8, 7, 6, 5, 4, 3, 2, 1, 0]"
      ]
    },
    {
      "cell_type": "markdown",
      "metadata": {
        "id": "FArgWQ8G8t33"
      },
      "source": [
        "####  List Methods\n",
        "\n",
        "Many useful methods are available for lists: `append()`, `insert()`, `extend()`, `remove()`, `pop()`, `clear()`, `count()`, `index()`, `reverse()`, `sort()`."
      ]
    },
    {
      "cell_type": "code",
      "execution_count": null,
      "metadata": {
        "id": "KJKoBxJi8t33"
      },
      "outputs": [],
      "source": [
        "fruits = [\"apple\", \"banana\", \"cherry\", \"banana\"]\n",
        "\n",
        "fruits.remove(\"banana\") # Removes the first occurrence\n",
        "print(f\"After remove('banana'): {fruits}\")\n",
        "\n",
        "popped_item = fruits.pop(1) # Removes and returns item at index 1\n",
        "print(f\"After pop(1): {fruits}, Popped item: {popped_item}\")\n",
        "\n",
        "fruits.clear()\n",
        "print(f\"After clear(): {fruits}\")\n",
        "\n",
        "numbers = [1, 2, 2, 3, 4, 2]\n",
        "print(f\"Count of 2 in numbers: {numbers.count(2)}\")\n",
        "\n",
        "numbers.reverse()\n",
        "print(f\"Reversed numbers: {numbers}\")"
      ]
    },
    {
      "cell_type": "markdown",
      "metadata": {
        "id": "nxYV2a7H8t33"
      },
      "source": [
        "#### Mutability\n",
        "\n",
        "Lists are **mutable**, meaning their content can be changed after creation."
      ]
    },
    {
      "cell_type": "code",
      "execution_count": null,
      "metadata": {
        "id": "PGoiOF7W8t33"
      },
      "outputs": [],
      "source": [
        "list_a = [1, 2, 3]\n",
        "list_b = list_a # list_b refers to the SAME object as list_a\n",
        "\n",
        "list_a[0] = 100\n",
        "print(f\"list_a: {list_a}\")\n",
        "print(f\"list_b: {list_b}\") # list_b also changes because they refer to the same object"
      ]
    },
    {
      "cell_type": "markdown",
      "metadata": {
        "id": "vv2ba8lV8t33"
      },
      "source": [
        "#### Aliasing\n",
        "\n",
        "When two or more variables refer to the same object in memory, it's called aliasing. Changes made through one alias will be reflected when accessed through another."
      ]
    },
    {
      "cell_type": "code",
      "execution_count": null,
      "metadata": {
        "id": "grS92VvZ8t33"
      },
      "outputs": [],
      "source": [
        "original_list = [10, 20, 30]\n",
        "alias_list = original_list # Both variables point to the same list object\n",
        "\n",
        "print(f\"original_list before change: {original_list}\")\n",
        "print(f\"alias_list before change: {alias_list}\")\n",
        "\n",
        "alias_list.append(40) # Modifying through the alias\n",
        "\n",
        "print(f\"original_list after change: {original_list}\") # Original list is also affected\n",
        "print(f\"alias_list after change: {alias_list}\")"
      ]
    },
    {
      "cell_type": "markdown",
      "metadata": {
        "id": "2JaqlE6V8t33"
      },
      "source": [
        "###  Tuples\n",
        "\n",
        "Tuples are ordered, **immutable** (unchangeable) collections of items. They are defined using parentheses `()`.\n",
        "\n",
        "#### Creation"
      ]
    },
    {
      "cell_type": "code",
      "execution_count": null,
      "metadata": {
        "id": "FFy-hSGJ8t33"
      },
      "outputs": [],
      "source": [
        "my_tuple = (1, 2, 3, \"hello\")\n",
        "single_item_tuple = (5,) # Comma is essential for a single-item tuple\n",
        "empty_tuple = ()\n",
        "\n",
        "print(f\"my_tuple: {my_tuple}\")\n",
        "print(f\"single_item_tuple: {single_item_tuple}\")\n",
        "print(f\"empty_tuple: {empty_tuple}\")"
      ]
    },
    {
      "cell_type": "markdown",
      "metadata": {
        "id": "IDcSZHQH8t33"
      },
      "source": [
        "####  Accessing Elements in a Tuple\n",
        "\n",
        "Similar to lists, using indexing and slicing."
      ]
    },
    {
      "cell_type": "code",
      "execution_count": null,
      "metadata": {
        "id": "noeNOvrg8t34"
      },
      "outputs": [],
      "source": [
        "my_tuple = (\"a\", \"b\", \"c\", \"d\", \"e\")\n",
        "\n",
        "print(f\"First element: {my_tuple[0]}\")\n",
        "print(f\"Last element: {my_tuple[-1]}\")\n",
        "print(f\"Slice: {my_tuple[1:4]}\")"
      ]
    },
    {
      "cell_type": "markdown",
      "metadata": {
        "id": "PHXpZGVt8t34"
      },
      "source": [
        "####  Updating, Deleting Elements in a Tuple (Conceptual)\n",
        "\n",
        "Tuples are immutable. You cannot directly update or delete individual elements. To \"update\" or \"delete\" an element, you must create a *new* tuple with the desired changes."
      ]
    },
    {
      "cell_type": "code",
      "execution_count": null,
      "metadata": {
        "id": "jRu5LqId8t34"
      },
      "outputs": [],
      "source": [
        "# Attempting to modify directly will result in an error\n",
        "# my_tuple[0] = 'z' # TypeError: 'tuple' object does not support item assignment\n",
        "\n",
        "original_tuple = (1, 2, 3)\n",
        "# To \"update\" (create a new tuple)\n",
        "new_tuple = original_tuple[:1] + (99,) + original_tuple[2:]\n",
        "print(f\"Original: {original_tuple}, New (updated): {new_tuple}\")\n",
        "\n",
        "# To \"delete\" an element (create a new tuple without it)\n",
        "another_tuple = (\"a\", \"b\", \"c\", \"d\")\n",
        "deleted_tuple = another_tuple[:1] + another_tuple[2:] # Deleting 'b'\n",
        "print(f\"Original: {another_tuple}, New (deleted): {deleted_tuple}\")"
      ]
    },
    {
      "cell_type": "markdown",
      "metadata": {
        "id": "c9UmnZ668t34"
      },
      "source": [
        "####  Tuple Assignment\n",
        "\n",
        "Multiple variables can be assigned values from a tuple in a single statement."
      ]
    },
    {
      "cell_type": "code",
      "execution_count": null,
      "metadata": {
        "id": "oAm-n13Z8t34"
      },
      "outputs": [],
      "source": [
        "coords = (10, 20)\n",
        "x, y = coords # Tuple unpacking\n",
        "print(f\"x: {x}, y: {y}\")\n",
        "\n",
        "a, b, c = \"ABC\" # String unpacking also works like tuple unpacking\n",
        "print(f\"a: {a}, b: {b}, c: {c}\")"
      ]
    },
    {
      "cell_type": "markdown",
      "metadata": {
        "id": "7voh-AnI8t34"
      },
      "source": [
        "#### Tuple as Return Value\n",
        "\n",
        "Functions can return multiple values as a tuple."
      ]
    },
    {
      "cell_type": "code",
      "execution_count": null,
      "metadata": {
        "id": "w6YnIDdm8t34"
      },
      "outputs": [],
      "source": [
        "def get_user_info():\n",
        "    name = \"John Doe\"\n",
        "    age = 45\n",
        "    city = \"London\"\n",
        "    return name, age, city # Returns a tuple\n",
        "\n",
        "info = get_user_info()\n",
        "print(f\"User Info: {info}\")\n",
        "\n",
        "name, age, city = get_user_info() # Unpack the returned tuple\n",
        "print(f\"Name: {name}, Age: {age}, City: {city}\")"
      ]
    },
    {
      "cell_type": "markdown",
      "metadata": {
        "id": "GtJgS-Ko8t34"
      },
      "source": [
        "####  Nested Tuples\n",
        "\n",
        "Tuples can contain other tuples."
      ]
    },
    {
      "cell_type": "code",
      "execution_count": null,
      "metadata": {
        "id": "BzFAivW28t34"
      },
      "outputs": [],
      "source": [
        "nested_tuple = ((1, 2), (\"a\", \"b\"), (True, False))\n",
        "print(f\"Nested tuple: {nested_tuple}\")\n",
        "print(f\"First inner tuple: {nested_tuple[0]}\")\n",
        "print(f\"Element 'b': {nested_tuple[1][1]}\")"
      ]
    },
    {
      "cell_type": "markdown",
      "metadata": {
        "id": "0nZraz9t8t34"
      },
      "source": [
        "#### Basic Tuple Operations\n",
        "\n",
        "  * Concatenation (`+`)\n",
        "  * Repetition (`*`)\n",
        "  * `len()`\n",
        "  * `in` (membership)\n",
        "  * `count()`, `index()`\n",
        "\n",
        "<!-- end list -->"
      ]
    },
    {
      "cell_type": "code",
      "execution_count": null,
      "metadata": {
        "id": "sNvPe7qe8t34"
      },
      "outputs": [],
      "source": [
        "t1 = (1, 2)\n",
        "t2 = (3, 4)\n",
        "print(f\"Concatenation: {t1 + t2}\")\n",
        "print(f\"Repetition: {t1 * 3}\")\n",
        "print(f\"Length of t1: {len(t1)}\")\n",
        "print(f\"2 in t1: {2 in t1}\")\n",
        "print(f\"Count of 1 in (1,1,2,3): {(1,1,2,3).count(1)}\")\n",
        "print(f\"Index of 'c' in ('a','b','c'): {('a','b','c').index('c')}\")"
      ]
    },
    {
      "cell_type": "markdown",
      "metadata": {
        "id": "xz2-HJJt8t34"
      },
      "source": [
        "###  Sets\n",
        "\n",
        "Sets are unordered collections of unique and immutable items. They are defined using curly braces `{}` or the `set()` constructor.\n",
        "\n",
        "####  Set Operations\n",
        "\n",
        "  * **Creation:**\n",
        "  * **Adding/Removing:** `add()`, `remove()`, `discard()`, `pop()`, `clear()`\n",
        "  * **Mathematical Operations:** `union()`, `intersection()`, `difference()`, `symmetric_difference()`, `issubset()`, `issuperset()`, `isdisjoint()`\n",
        "\n",
        "<!-- end list -->"
      ]
    },
    {
      "cell_type": "code",
      "execution_count": null,
      "metadata": {
        "id": "apNYrNNB8t34"
      },
      "outputs": [],
      "source": [
        "my_set = {1, 2, 3, 2, 1} # Duplicates are automatically removed\n",
        "print(f\"My set: {my_set}\")\n",
        "\n",
        "# Adding\n",
        "my_set.add(4)\n",
        "print(f\"After add(4): {my_set}\")\n",
        "\n",
        "# Removing\n",
        "my_set.remove(2) # Raises KeyError if item not found\n",
        "print(f\"After remove(2): {my_set}\")\n",
        "\n",
        "my_set.discard(5) # Does not raise error if item not found\n",
        "print(f\"After discard(5): {my_set}\")\n",
        "\n",
        "set_a = {1, 2, 3, 4}\n",
        "set_b = {3, 4, 5, 6}\n",
        "\n",
        "print(f\"Union (A U B): {set_a.union(set_b)}\") # or set_a | set_b\n",
        "print(f\"Intersection (A ∩ B): {set_a.intersection(set_b)}\") # or set_a & set_b\n",
        "print(f\"Difference (A - B): {set_a.difference(set_b)}\") # or set_a - set_b\n",
        "print(f\"Symmetric Difference ((A U B) - (A ∩ B)): {set_a.symmetric_difference(set_b)}\") # or set_a ^ set_b\n",
        "\n",
        "set_c = {1, 2}\n",
        "print(f\"set_c is subset of set_a: {set_c.issubset(set_a)}\")"
      ]
    },
    {
      "cell_type": "markdown",
      "metadata": {
        "id": "jbUy7JzT8t34"
      },
      "source": [
        "###  Dictionary Operations\n",
        "\n",
        "Dictionaries are unordered collections of key-value pairs. Keys must be unique and immutable (strings, numbers, tuples). Values can be of any data type. Defined using curly braces `{}` with key:value pairs.\n",
        "\n",
        "####  Creation"
      ]
    },
    {
      "cell_type": "code",
      "execution_count": null,
      "metadata": {
        "id": "Ocyfvb6i8t35"
      },
      "outputs": [],
      "source": [
        "my_dict = {\"name\": \"Alice\", \"age\": 30, \"city\": \"New York\"}\n",
        "empty_dict = {}\n",
        "\n",
        "print(f\"My dictionary: {my_dict}\")"
      ]
    },
    {
      "cell_type": "markdown",
      "metadata": {
        "id": "nr2Ky-hY8t35"
      },
      "source": [
        "#### Accessing Elements\n",
        "\n",
        "Access values using their keys."
      ]
    },
    {
      "cell_type": "code",
      "execution_count": null,
      "metadata": {
        "id": "8Nmtisdx8t35"
      },
      "outputs": [],
      "source": [
        "print(f\"Name: {my_dict['name']}\")\n",
        "print(f\"Age: {my_dict.get('age')}\") # .get() returns None if key not found, avoids KeyError\n",
        "print(f\"Country (using get with default): {my_dict.get('country', 'Unknown')}\")"
      ]
    },
    {
      "cell_type": "markdown",
      "metadata": {
        "id": "vfFGMwLC8t35"
      },
      "source": [
        "#### Adding and Updating Elements"
      ]
    },
    {
      "cell_type": "code",
      "execution_count": null,
      "metadata": {
        "id": "TxpwiihB8t35"
      },
      "outputs": [],
      "source": [
        "# Adding\n",
        "my_dict[\"occupation\"] = \"Engineer\"\n",
        "print(f\"After adding occupation: {my_dict}\")\n",
        "\n",
        "# Updating\n",
        "my_dict[\"age\"] = 31\n",
        "print(f\"After updating age: {my_dict}\")"
      ]
    },
    {
      "cell_type": "markdown",
      "metadata": {
        "id": "tFJLzDCM8t35"
      },
      "source": [
        "####  Deleting Elements\n",
        "\n",
        "  * `del` keyword: Deletes a key-value pair.\n",
        "  * `pop()`: Removes a key-value pair and returns the value.\n",
        "  * `popitem()`: Removes and returns an arbitrary (last inserted in Python 3.7+) key-value pair.\n",
        "  * `clear()`: Removes all items from the dictionary.\n",
        "\n",
        "<!-- end list -->"
      ]
    },
    {
      "cell_type": "code",
      "execution_count": null,
      "metadata": {
        "id": "DMo5cKr88t35"
      },
      "outputs": [],
      "source": [
        "person = {\"name\": \"Bob\", \"age\": 28, \"city\": \"London\"}\n",
        "\n",
        "del person[\"age\"]\n",
        "print(f\"After deleting age: {person}\")\n",
        "\n",
        "removed_city = person.pop(\"city\")\n",
        "print(f\"After popping city: {person}, Removed city: {removed_city}\")\n",
        "\n",
        "person[\"job\"] = \"Developer\"\n",
        "person[\"salary\"] = 70000\n",
        "popped_item = person.popitem() # Returns (key, value) tuple\n",
        "print(f\"After popitem: {person}, Popped item: {popped_item}\")\n",
        "\n",
        "person.clear()\n",
        "print(f\"After clear: {person}\")"
      ]
    },
    {
      "cell_type": "markdown",
      "metadata": {
        "id": "1XP8tm--8t35"
      },
      "source": [
        "####  Iterating Through a Dictionary"
      ]
    },
    {
      "cell_type": "code",
      "execution_count": null,
      "metadata": {
        "id": "oVMLbnwd8t35"
      },
      "outputs": [],
      "source": [
        "student = {\"name\": \"Eve\", \"id\": 101, \"major\": \"Computer Science\"}\n",
        "\n",
        "# Iterate over keys (default)\n",
        "print(\"Keys:\")\n",
        "for key in student:\n",
        "    print(key)\n",
        "\n",
        "# Iterate over values\n",
        "print(\"\\nValues:\")\n",
        "for value in student.values():\n",
        "    print(value)\n",
        "\n",
        "# Iterate over key-value pairs\n",
        "print(\"\\nKey-Value pairs:\")\n",
        "for key, value in student.items():\n",
        "    print(f\"{key}: {value}\")"
      ]
    },
    {
      "cell_type": "markdown",
      "metadata": {
        "id": "oNe7VgzZ8t35"
      },
      "source": [
        "###  Built-in Dictionary Functions & Methods\n",
        "\n",
        "  * `len()`: Number of key-value pairs.\n",
        "  * `keys()`: Returns a view object of all keys.\n",
        "  * `values()`: Returns a view object of all values.\n",
        "  * `items()`: Returns a view object of all key-value pairs (as tuples).\n",
        "  * `copy()`: Returns a shallow copy of the dictionary.\n",
        "  * `fromkeys()`: Creates a new dictionary with specified keys and an optional default value.\n",
        "  * `setdefault()`: Returns the value for the specified key. If the key is not in the dictionary, inserts the key with the specified value.\n",
        "  * `update()`: Updates the dictionary with elements from another dictionary or from an iterable of key-value pairs.\n",
        "\n",
        "<!-- end list -->"
      ]
    },
    {
      "cell_type": "code",
      "execution_count": null,
      "metadata": {
        "id": "dODXftR38t35"
      },
      "outputs": [],
      "source": [
        "my_profile = {\"name\": \"David\", \"age\": 35, \"email\": \"david@example.com\"}\n",
        "\n",
        "print(f\"Number of items: {len(my_profile)}\")\n",
        "print(f\"Keys: {my_profile.keys()}\")\n",
        "print(f\"Values: {my_profile.values()}\")\n",
        "print(f\"Items: {my_profile.items()}\")\n",
        "\n",
        "profile_copy = my_profile.copy()\n",
        "profile_copy[\"age\"] = 36\n",
        "print(f\"Original: {my_profile}, Copy: {profile_copy}\")\n",
        "\n",
        "new_dict_from_keys = dict.fromkeys(['a', 'b', 'c'], 0)\n",
        "print(f\"New dict from keys: {new_dict_from_keys}\")\n",
        "\n",
        "status = my_profile.setdefault(\"status\", \"active\")\n",
        "print(f\"Status: {status}, Updated profile: {my_profile}\")\n",
        "status_again = my_profile.setdefault(\"status\", \"inactive\") # Will not change if key exists\n",
        "print(f\"Status again: {status_again}, Profile (no change): {my_profile}\")\n",
        "\n",
        "my_profile.update({\"city\": \"Mumbai\", \"phone\": \"123-456-7890\"})\n",
        "print(f\"After update: {my_profile}\")"
      ]
    }
  ],
  "metadata": {
    "colab": {
      "provenance": []
    },
    "kernelspec": {
      "display_name": "Python 3",
      "name": "python3"
    },
    "language_info": {
      "codemirror_mode": {
        "name": "ipython",
        "version": 3
      },
      "file_extension": ".py",
      "mimetype": "text/x-python",
      "name": "python",
      "nbconvert_exporter": "python",
      "pygments_lexer": "ipython3",
      "version": "3.11.12"
    }
  },
  "nbformat": 4,
  "nbformat_minor": 0
}
