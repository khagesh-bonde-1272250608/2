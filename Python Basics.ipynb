{
 "cells": [
  {
   "cell_type": "markdown",
   "id": "ba090d70-7705-4c3d-8cc7-b08162f97a45",
   "metadata": {},
   "source": [
    "<h1> Common Data Types </h1>"
   ]
  },
  {
   "cell_type": "markdown",
   "id": "a67d07fb-6b8a-40f4-9c7f-2acbf075c6a5",
   "metadata": {},
   "source": [
    "\n",
    "| Data Type               | Examples                                     |\n",
    "|-------------------------|----------------------------------------------|\n",
    "| **Integers**             | -2, -1, 0, 1, 2, 3, 4, 5                    |\n",
    "| **Floating-point numbers** | -1.25, -1.0, -0.5, 0.0, 0.5, 1.0, 1.25     |\n",
    "| **Strings**              | 'a', 'aa', 'aaa', 'Namaskar!', 'Hello!!'       |\n"
   ]
  },
  {
   "cell_type": "code",
   "execution_count": null,
   "id": "84180ff0-a704-4923-85d4-fd6b83d3abd9",
   "metadata": {},
   "outputs": [
    {
     "name": "stdout",
     "output_type": "stream",
     "text": [
      "3\n"
     ]
    }
   ],
   "source": []
  },
  {
   "cell_type": "markdown",
   "id": "3e8be251-0353-4ad7-98cc-5196f956c222",
   "metadata": {},
   "source": [
    "# Math Operators from Highest to Lowest Precedence"
   ]
  },
  {
   "cell_type": "markdown",
   "id": "15e3b20b-7da9-4e25-924f-4d29beeeff79",
   "metadata": {},
   "source": [
    "\n",
    "| Operator | Operation                | Example   | Evaluates to... |\n",
    "|----------|--------------------------|-----------|-----------------|\n",
    "| `**`    | Exponent                 | 2 ** 3    | 8               |\n",
    "| `%`      | Modulus/remainder        | 22 % 8    | 6               |\n",
    "| `//`     | Integer division/floored quotient | 22 // 8 | 2         |\n",
    "| `/`      | Division                 | 22 / 8    | 2.75            |\n",
    "| `*`      | Multiplication           | 3 * 5     | 15              |\n",
    "| `-`      | Subtraction              | 5 - 2     | 3               |\n",
    "| `+`      | Addition                 | 2 + 2     | 4               |\n"
   ]
  },
  {
   "cell_type": "code",
   "execution_count": null,
   "id": "076af5d6",
   "metadata": {},
   "outputs": [],
   "source": []
  },
  {
   "cell_type": "markdown",
   "id": "1c39b846-88e0-487f-b27d-e92573a6034e",
   "metadata": {},
   "source": [
    "# String Concatenation and Replication in Python"
   ]
  },
  {
   "cell_type": "markdown",
   "id": "b1511d56-0b61-4bb5-aa6f-7c2a79e1bc90",
   "metadata": {},
   "source": [
    "\n",
    "\n",
    "| Operation | Example              | Result         | Description                                        |\n",
    "|-----------|----------------------|----------------|----------------------------------------------------|\n",
    "| `+`       | `'Hello' + ' ' + 'World'` | `'Hello World'` | Concatenates two or more strings                    |\n",
    "| `*`       | `'Hello' * 3          ` | `'HelloHelloHello'` | Replicates the string a given number of times     |\n",
    "| `*`       | `'abc' * 0            ` | `''`            | Replication results in an empty string when the multiplier is 0 |\n"
   ]
  },
  {
   "cell_type": "code",
   "execution_count": null,
   "id": "221e7554",
   "metadata": {},
   "outputs": [],
   "source": []
  },
  {
   "cell_type": "markdown",
   "id": "9dab623c-1193-425d-b75d-3b47887bd792",
   "metadata": {},
   "source": [
    "# Storing Values in Variables and Assignment Statements"
   ]
  },
  {
   "cell_type": "markdown",
   "id": "60dbd66f-44f8-44ba-9984-bee84cfe020c",
   "metadata": {
    "jp-MarkdownHeadingCollapsed": true
   },
   "source": [
    "\n",
    "\n",
    "| **Statement**                | **Explanation**                                          | **Result**                       |\n",
    "|------------------------------|----------------------------------------------------------|----------------------------------|\n",
    "| `x = 10`                     | Assigns the value `10` to the variable `x`               | `x` holds the value `10`         |\n",
    "| `name = 'Siddarth'`              | Assigns the string `'Siddarth'` to the variable `name`      | `name` holds the string `'Siddarth'`|\n",
    "| `balance = 1000.75`           | Assigns the floating-point value `1000.75` to `balance`  | `balance` holds `1000.75`        |\n",
    "| `is_active = True`            | Assigns the boolean value `True` to `is_active`          | `is_active` holds `True`         |\n",
    "| `x, y = 5, 10`                | Multiple assignment: `x` gets `5`, `y` gets `10`         | `x` holds `5`, `y` holds `10`    |\n",
    "| `a = b = c = 3`               | Chained assignment: assigns `3` to `a`, `b`, and `c`     | `a`, `b`, and `c` all hold `3`   |\n"
   ]
  },
  {
   "cell_type": "code",
   "execution_count": null,
   "id": "cd362872",
   "metadata": {},
   "outputs": [],
   "source": []
  },
  {
   "cell_type": "markdown",
   "id": "3538640d-98b2-4749-aab2-b9b140f63e70",
   "metadata": {},
   "source": [
    "# Valid and Invalid Variable Names"
   ]
  },
  {
   "cell_type": "markdown",
   "id": "66dcd8a3-def4-4ad1-883a-66f79f3e5420",
   "metadata": {},
   "source": [
    "\n",
    "\n",
    "| **Valid Variable Names**  | **Invalid Variable Names**             |\n",
    "|---------------------------|----------------------------------------|\n",
    "| `balance`                 | `current-balance` (hyphens are not allowed)  |\n",
    "| `currentBalance`          | `current balance` (spaces are not allowed)  |\n",
    "| `current_balance`         | `4account` (can’t begin with a number)     |\n",
    "| `_spam`                   | `42` (can’t begin with a number)           |\n",
    "| `SPAM`                    | `total_$um` (special characters like `$` are not allowed) |\n",
    "| `account4`                | `'hello'` (special characters like `'` are not allowed) |\n"
   ]
  },
  {
   "cell_type": "code",
   "execution_count": null,
   "id": "295344b5",
   "metadata": {},
   "outputs": [],
   "source": []
  },
  {
   "cell_type": "markdown",
   "id": "7e6f410a-0b73-4e47-b0f7-becae026fd95",
   "metadata": {},
   "source": [
    "# The `print()` Function in Python"
   ]
  },
  {
   "cell_type": "markdown",
   "id": "099bfa21-73a8-493c-b04b-5b1127962ba6",
   "metadata": {
    "jp-MarkdownHeadingCollapsed": true
   },
   "source": [
    "\n",
    "\n",
    "| **Functionality**                  | **Example**                                              | **Explanation**                                          |\n",
    "|------------------------------------|----------------------------------------------------------|----------------------------------------------------------|\n",
    "| **Printing a simple string**       | `print(\"Hello, World!\")`                                 | Prints a string to the console.                           |\n",
    "| **Printing multiple items**        | `name = \"Siddarth\"; age = 25; print(name, age)`              | Prints multiple variables with a space between them.      |\n",
    "| **Using `sep` to separate items**  | `print(\"Apple\", \"Banana\", \"Cherry\", sep=\" \")`            | Custom separator (`sep`) between printed items.          |\n",
    "| **Using `end` to modify output end** | `print(\"Hello\", end=\"...\")`                              | Changes what is printed after the last item (default is newline). |\n",
    "| **Formatted string with `f-string`**| `name = \"Siddarth\"; age = 25; print(f\"Name: {name}, Age: {age}\")` | Prints variables inside a string using f-strings.         |\n",
    "\n"
   ]
  },
  {
   "cell_type": "code",
   "execution_count": null,
   "id": "9ece1cde",
   "metadata": {},
   "outputs": [],
   "source": []
  },
  {
   "cell_type": "markdown",
   "id": "d0d3b53a-3d01-4ef7-801d-2c72aa69521b",
   "metadata": {},
   "source": [
    "# The `input()` Function in Python"
   ]
  },
  {
   "cell_type": "markdown",
   "id": "a93a434e-7f7c-4fc6-bf1c-ff843bcc3faf",
   "metadata": {
    "jp-MarkdownHeadingCollapsed": true
   },
   "source": [
    "\n",
    "\n",
    "| **Functionality**                  | **Example**                                                   | **Explanation**                                          |\n",
    "|------------------------------------|---------------------------------------------------------------|----------------------------------------------------------|\n",
    "| **Getting simple input**           | `user_input = input(\"Enter your name: \")`                     | Prompts the user for input and stores it as a string.    |\n",
    "| **Converting input to integer**    | `age = int(input(\"Enter your age: \"))`                        | Converts the input string to an integer.                 |\n",
    "| **Multiple inputs on one line**    | `name, age = input(\"Enter name and age: \").split()`           | Splits a single input into multiple variables.           |\n"
   ]
  },
  {
   "cell_type": "code",
   "execution_count": null,
   "id": "f7954bac",
   "metadata": {},
   "outputs": [],
   "source": []
  },
  {
   "cell_type": "markdown",
   "id": "9a2e9666-b341-4df8-838e-c4370653bfa4",
   "metadata": {},
   "source": [
    "# The `len()` Function in Python"
   ]
  },
  {
   "cell_type": "markdown",
   "id": "9d253c7b-cb96-4243-bfbd-4facfbc8aa59",
   "metadata": {},
   "source": [
    "\n",
    "\n",
    "| **Functionality**                     | **Example**                                            | **Explanation**                                             |\n",
    "|---------------------------------------|--------------------------------------------------------|-------------------------------------------------------------|\n",
    "| **Getting the length of a string**    | `text = \"Hello, World!\"; len(text)`                    | Returns the number of characters in the string.              |\n",
    "| **Getting the number of elements in a list** | `numbers = [1, 2, 3, 4, 5]; len(numbers)`        | Returns the number of elements in the list.                  |\n",
    "| **Checking if a list is empty**      | `items = []; len(items)`                               | Returns 0 if the list is empty.                             |\n",
    "| **Getting the number of key-value pairs in a dictionary** | `student = {\"name\": \"Alice\", \"age\": 25}; len(student)` | Returns the number of key-value pairs in the dictionary.     |\n",
    "| **Getting the number of elements in a tuple** | `coordinates = (10, 20, 30); len(coordinates)`        | Returns the number of elements in the tuple.                 |\n",
    "| **Using `len()` on an empty structure** | `empty_string = \"\"; len(empty_string)`                 | Returns 0 for empty strings, lists, tuples, etc.             |\n"
   ]
  },
  {
   "cell_type": "code",
   "execution_count": null,
   "id": "59614b8d",
   "metadata": {},
   "outputs": [],
   "source": []
  },
  {
   "cell_type": "markdown",
   "id": "4b543525-dad5-4fef-bf45-e5b6d372030b",
   "metadata": {},
   "source": [
    "# The `str()`, `int()`, and `float()` Functions in Python"
   ]
  },
  {
   "cell_type": "markdown",
   "id": "f532d884-aaa6-4af9-9196-33a49b2e10fb",
   "metadata": {},
   "source": [
    "\n",
    "\n",
    "| **Function** | **Purpose**                                    | **Example**                                             | **Explanation**                                           |\n",
    "|--------------|------------------------------------------------|---------------------------------------------------------|-----------------------------------------------------------|\n",
    "| **`str()`**  | Converts an object to a string.                | `num = 123; str_num = str(num)`                          | Converts the integer `123` to the string `\"123\"`.         |\n",
    "| **`int()`**  | Converts a value to an integer.                | `str_num = \"123\"; num = int(str_num)`                    | Converts the string `\"123\"` to the integer `123`.         |\n",
    "|              |                                                | `float_num = 3.99; int_num = int(float_num)`             | Converts the float `3.99` to the integer `3` (truncates the decimal). |\n",
    "| **`float()`**| Converts a value to a floating-point number.   | `str_num = \"3.14\"; float_num = float(str_num)`           | Converts the string `\"3.14\"` to the float `3.14`.          |\n",
    "|              |                                                | `num = 10; float_num = float(num)`                       | Converts the integer `10` to the float `10.0`.            |\n",
    "|              |                                                | `sci_num = \"1.23e4\"; float_num = float(sci_num)`         | Converts the scientific notation string `\"1.23e4\"` to the float `12300.0`. |\n"
   ]
  },
  {
   "cell_type": "code",
   "execution_count": null,
   "id": "c67f58c8",
   "metadata": {},
   "outputs": [],
   "source": []
  },
  {
   "cell_type": "markdown",
   "id": "2fe9bd25-4c2b-4586-ba23-378d005e20fb",
   "metadata": {},
   "source": [
    "# ERRORS ARE OKAY!"
   ]
  },
  {
   "cell_type": "markdown",
   "id": "cd0c8db8-ec01-4393-b864-be9a9cf265c5",
   "metadata": {},
   "source": [
    "<b> 1. This is a grammatically correct English sentence. <br>\n",
    "2. This grammatically is sentence not English correct a. </b>"
   ]
  },
  {
   "cell_type": "markdown",
   "id": "f9f76d3e",
   "metadata": {},
   "source": []
  },
  {
   "cell_type": "markdown",
   "id": "b4cd07ec",
   "metadata": {},
   "source": []
  },
  {
   "cell_type": "markdown",
   "id": "caecd116",
   "metadata": {},
   "source": [
    "# Python Basics with Examples"
   ]
  },
  {
   "cell_type": "markdown",
   "id": "94da9e7b",
   "metadata": {},
   "source": [
    "### Data Types"
   ]
  },
  {
   "cell_type": "code",
   "execution_count": 1,
   "id": "81afac41",
   "metadata": {},
   "outputs": [
    {
     "name": "stdout",
     "output_type": "stream",
     "text": [
      "integer_var: 10 (Type: <class 'int'>)\n",
      "float_var: 3.14 (Type: <class 'float'>)\n",
      "string_var: 'Hello, Python!' (Type: <class 'str'>)\n",
      "boolean_var: True (Type: <class 'bool'>)\n"
     ]
    }
   ],
   "source": [
    "# Examples of data types\n",
    "integer_var = 10\n",
    "float_var = 3.14\n",
    "string_var = \"Hello, Python!\"\n",
    "boolean_var = True\n",
    "\n",
    "print(f\"integer_var: {integer_var} (Type: {type(integer_var)})\")\n",
    "print(f\"float_var: {float_var} (Type: {type(float_var)})\")\n",
    "print(f\"string_var: '{string_var}' (Type: {type(string_var)})\")\n",
    "print(f\"boolean_var: {boolean_var} (Type: {type(boolean_var)})\")"
   ]
  },
  {
   "cell_type": "markdown",
   "id": "dca3f6fc",
   "metadata": {},
   "source": [
    "### "
   ]
  },
  {
   "cell_type": "code",
   "execution_count": null,
   "id": "ee17bd51",
   "metadata": {},
   "outputs": [],
   "source": []
  },
  {
   "cell_type": "code",
   "execution_count": null,
   "id": "af7fc519",
   "metadata": {},
   "outputs": [],
   "source": []
  }
 ],
 "metadata": {
  "kernelspec": {
   "display_name": "Python 3",
   "language": "python",
   "name": "python3"
  },
  "language_info": {
   "codemirror_mode": {
    "name": "ipython",
    "version": 3
   },
   "file_extension": ".py",
   "mimetype": "text/x-python",
   "name": "python",
   "nbconvert_exporter": "python",
   "pygments_lexer": "ipython3",
   "version": "3.11.12"
  }
 },
 "nbformat": 4,
 "nbformat_minor": 5
}
